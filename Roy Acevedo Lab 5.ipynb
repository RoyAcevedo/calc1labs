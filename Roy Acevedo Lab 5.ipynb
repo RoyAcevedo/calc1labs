{
 "cells": [
  {
   "cell_type": "markdown",
   "metadata": {},
   "source": [
    "## Derivatives and tangent lines\n",
    "\n",
    "The derivative is defined for a funtion x as follows\n",
    "$$ f'(x) = \\lim_{h\\to0}\\frac{f(x + h)-f(x)}{h}$$\n",
    "\n",
    "In your lecture, you have worked with taking the derivative using rules such as the power rule, product rule, quotient rule and chain rule. One of the wonderful things about python is we don't need to worry about any of those, sympy has a derivative function that will take care of that for us."
   ]
  },
  {
   "cell_type": "code",
   "execution_count": 18,
   "metadata": {},
   "outputs": [],
   "source": [
    "# lets import our packages\n",
    "import numpy as np\n",
    "import matplotlib.pyplot as plt\n",
    "from sympy import *\n",
    "%matplotlib inline\n",
    "x, y, z = symbols('x y z')\n",
    "init_printing(use_unicode=True)"
   ]
  },
  {
   "cell_type": "markdown",
   "metadata": {},
   "source": [
    "The fuction that we are going to use is the diff() function.\n",
    "\n",
    "This function has 2 required parameters (Things that go inside the parenthesis)\n",
    "\n",
    "First we need a function $f(x)$\n",
    "Second we need our independant variable x\n",
    "\n",
    "(If we want to take higher order derivatives such as a second derivative we can include a third parameter saying so)"
   ]
  },
  {
   "cell_type": "code",
   "execution_count": 2,
   "metadata": {},
   "outputs": [
    {
     "data": {
      "image/png": "[encoded data removed]",
      "text/latex": [
       "$$2 x + 3$$"
      ],
      "text/plain": [
       "2⋅x + 3"
      ]
     },
     "execution_count": 2,
     "metadata": {},
     "output_type": "execute_result"
    }
   ],
   "source": [
    "# Here is an example\n",
    "func = x ** 2 + 3 * x - 4\n",
    "diff(func, x)"
   ]
  },
  {
   "cell_type": "code",
   "execution_count": 3,
   "metadata": {},
   "outputs": [
    {
     "data": {
      "image/png": "[encoded data removed]",
      "text/latex": [
       "$$- \\sin{\\left (x \\right )}$$"
      ],
      "text/plain": [
       "-sin(x)"
      ]
     },
     "execution_count": 3,
     "metadata": {},
     "output_type": "execute_result"
    }
   ],
   "source": [
    "# A second derivative\n",
    "func2 = sin(x)\n",
    "diff(func2, x, 2)"
   ]
  },
  {
   "cell_type": "code",
   "execution_count": 4,
   "metadata": {},
   "outputs": [
    {
     "data": {
      "image/png": "[encoded data removed]",
      "text/latex": [
       "$$\\frac{\\left(4 x^{3} + x^{2} e^{x} - 2 x - 3 e^{x} - 2\\right) e^{x}}{\\left(x - 1\\right)^{2} \\left(x + 1\\right)^{2} \\left(e^{x} + 1\\right)} + \\frac{\\left(x^{4} + x^{2} e^{x} - x^{2} - 2 x e^{x} - 2 x - e^{x}\\right) e^{x}}{\\left(x - 1\\right)^{2} \\left(x + 1\\right)^{2} \\left(e^{x} + 1\\right)} - \\frac{\\left(x^{4} + x^{2} e^{x} - x^{2} - 2 x e^{x} - 2 x - e^{x}\\right) e^{2 x}}{\\left(x - 1\\right)^{2} \\left(x + 1\\right)^{2} \\left(e^{x} + 1\\right)^{2}} - \\frac{2 \\left(x^{4} + x^{2} e^{x} - x^{2} - 2 x e^{x} - 2 x - e^{x}\\right) e^{x}}{\\left(x - 1\\right)^{2} \\left(x + 1\\right)^{3} \\left(e^{x} + 1\\right)} - \\frac{2 \\left(x^{4} + x^{2} e^{x} - x^{2} - 2 x e^{x} - 2 x - e^{x}\\right) e^{x}}{\\left(x - 1\\right)^{3} \\left(x + 1\\right)^{2} \\left(e^{x} + 1\\right)}$$"
      ],
      "text/plain": [
       "⎛   3    2  x            x    ⎞  x   ⎛ 4    2  x    2        x          x⎞  x \n",
       "⎝4⋅x  + x ⋅ℯ  - 2⋅x - 3⋅ℯ  - 2⎠⋅ℯ    ⎝x  + x ⋅ℯ  - x  - 2⋅x⋅ℯ  - 2⋅x - ℯ ⎠⋅ℯ  \n",
       "────────────────────────────────── + ──────────────────────────────────────── \n",
       "           2        2 ⎛ x    ⎞                     2        2 ⎛ x    ⎞        \n",
       "    (x - 1) ⋅(x + 1) ⋅⎝ℯ  + 1⎠              (x - 1) ⋅(x + 1) ⋅⎝ℯ  + 1⎠        \n",
       "                                                                              \n",
       "\n",
       "  ⎛ 4    2  x    2        x          x⎞  2⋅x     ⎛ 4    2  x    2        x    \n",
       "  ⎝x  + x ⋅ℯ  - x  - 2⋅x⋅ℯ  - 2⋅x - ℯ ⎠⋅ℯ      2⋅⎝x  + x ⋅ℯ  - x  - 2⋅x⋅ℯ  - 2\n",
       "- ────────────────────────────────────────── - ───────────────────────────────\n",
       "                                   2                          2        3 ⎛ x  \n",
       "                2        2 ⎛ x    ⎞                    (x - 1) ⋅(x + 1) ⋅⎝ℯ  +\n",
       "         (x - 1) ⋅(x + 1) ⋅⎝ℯ  + 1⎠                                           \n",
       "\n",
       "      x⎞  x     ⎛ 4    2  x    2        x          x⎞  x\n",
       "⋅x - ℯ ⎠⋅ℯ    2⋅⎝x  + x ⋅ℯ  - x  - 2⋅x⋅ℯ  - 2⋅x - ℯ ⎠⋅ℯ \n",
       "─────────── - ──────────────────────────────────────────\n",
       "  ⎞                          3        2 ⎛ x    ⎞        \n",
       " 1⎠                   (x - 1) ⋅(x + 1) ⋅⎝ℯ  + 1⎠        \n",
       "                                                        "
      ]
     },
     "execution_count": 4,
     "metadata": {},
     "output_type": "execute_result"
    }
   ],
   "source": [
    "# And here is a derivative of a very nasty function\n",
    "nasty = (x**4 + x**2*exp(x) - x**2 - 2*x*exp(x) - 2*x - \n",
    "         exp(x))*exp(x)/((x - 1)**2*(x + 1)**2*(exp(x) + 1))\n",
    "diff(nasty, x)"
   ]
  },
  {
   "cell_type": "code",
   "execution_count": 5,
   "metadata": {},
   "outputs": [
    {
     "data": {
      "image/png": "[encoded data removed]",
      "text/latex": [
       "$$\\frac{\\left(x^{4} + x^{2} e^{x} - x^{2} - 2 x e^{x} - 2 x - e^{x}\\right) e^{x}}{\\left(x - 1\\right)^{2} \\left(x + 1\\right)^{2} \\left(e^{x} + 1\\right)}$$"
      ],
      "text/plain": [
       "⎛ 4    2  x    2        x          x⎞  x\n",
       "⎝x  + x ⋅ℯ  - x  - 2⋅x⋅ℯ  - 2⋅x - ℯ ⎠⋅ℯ \n",
       "────────────────────────────────────────\n",
       "              2        2 ⎛ x    ⎞       \n",
       "       (x - 1) ⋅(x + 1) ⋅⎝ℯ  + 1⎠       "
      ]
     },
     "execution_count": 5,
     "metadata": {},
     "output_type": "execute_result"
    }
   ],
   "source": [
    "# For reference here is that nasty function\n",
    "nasty"
   ]
  },
  {
   "cell_type": "markdown",
   "metadata": {},
   "source": [
    "Try taking the derivative of $$f(x) = \\frac{sin(2x) + cos(x^2)}{x^3}$$"
   ]
  },
  {
   "cell_type": "code",
   "execution_count": 10,
   "metadata": {},
   "outputs": [
    {
     "data": {
      "image/png": "[encoded data removed]",
      "text/latex": [
       "$$\\frac{1}{x^{3}} \\left(- 2 x \\sin{\\left (x^{2} \\right )} + 2 \\cos{\\left (2 x \\right )}\\right) - \\frac{3}{x^{4}} \\left(\\sin{\\left (2 x \\right )} + \\cos{\\left (x^{2} \\right )}\\right)$$"
      ],
      "text/plain": [
       "         ⎛ 2⎞                  ⎛              ⎛ 2⎞⎞\n",
       "- 2⋅x⋅sin⎝x ⎠ + 2⋅cos(2⋅x)   3⋅⎝sin(2⋅x) + cos⎝x ⎠⎠\n",
       "────────────────────────── - ──────────────────────\n",
       "             3                          4          \n",
       "            x                          x           "
      ]
     },
     "execution_count": 10,
     "metadata": {},
     "output_type": "execute_result"
    }
   ],
   "source": [
    "john = (sin(2*x) + cos(x**2))/(x**3)\n",
    "diff(john, x)"
   ]
  },
  {
   "cell_type": "markdown",
   "metadata": {},
   "source": [
    "A lot of times, we will need to use a derivative at a later point, so we need to store the value like below"
   ]
  },
  {
   "cell_type": "code",
   "execution_count": 11,
   "metadata": {},
   "outputs": [
    {
     "data": {
      "image/png": "[encoded data removed]",
      "text/latex": [
       "$$2 x - 5$$"
      ],
      "text/plain": [
       "2⋅x - 5"
      ]
     },
     "execution_count": 11,
     "metadata": {},
     "output_type": "execute_result"
    }
   ],
   "source": [
    "func3 = x ** 2 - 5 * x + 4\n",
    "deriv = diff(func3, x) # Store the value\n",
    "deriv # lets see what the value is"
   ]
  },
  {
   "cell_type": "markdown",
   "metadata": {},
   "source": [
    "Now we want to evaluate what the value of the derivative is at a point. We will use a function called .subs() to evaluate the values.\n",
    "\n",
    "The syntax is .subs(x,n) where n us the value we want to use"
   ]
  },
  {
   "cell_type": "code",
   "execution_count": 12,
   "metadata": {},
   "outputs": [
    {
     "data": {
      "image/png": "[encoded data removed]",
      "text/latex": [
       "$$-1$$"
      ],
      "text/plain": [
       "-1"
      ]
     },
     "execution_count": 12,
     "metadata": {},
     "output_type": "execute_result"
    }
   ],
   "source": [
    "deriv.subs(x,2)"
   ]
  },
  {
   "cell_type": "markdown",
   "metadata": {},
   "source": [
    "### Assignment\n",
    "\n",
    "For each of the following functions, graph the function and the line tangent to the function at the given point\n",
    "\n",
    "$$ f(x) = x^2 + 4x + 3$$$$  x=2$$"
   ]
  },
  {
   "cell_type": "code",
   "execution_count": 22,
   "metadata": {
    "scrolled": true
   },
   "outputs": [
    {
     "data": {
      "image/png": "[encoded data removed]",
      "text/latex": [
       "$$2 x + 4$$"
      ],
      "text/plain": [
       "2⋅x + 4"
      ]
     },
     "execution_count": 22,
     "metadata": {},
     "output_type": "execute_result"
    }
   ],
   "source": [
    "as1 = x**2 + 4*x + 3\n",
    "deriv1 = diff(as1, x,)\n",
    "deriv1"
   ]
  },
  {
   "cell_type": "code",
   "execution_count": 35,
   "metadata": {},
   "outputs": [
    {
     "name": "stdout",
     "output_type": "stream",
     "text": [
      "8 -1\n"
     ]
    }
   ],
   "source": [
    "m1 = deriv1.subs(x, 2)\n",
    "y1 = as1.subs(x, 2)\n",
    "b1 = y1 - m1 * 2\n",
    "print(m1, b1)"
   ]
  },
  {
   "cell_type": "code",
   "execution_count": 52,
   "metadata": {},
   "outputs": [
    {
     "data": {
      "image/png": "[encoded data removed]",
      "text/plain": [
       "<Figure size 432x288 with 1 Axes>"
      ]
     },
     "metadata": {},
     "output_type": "display_data"
    }
   ],
   "source": [
    "xs1 = np.linspace(100, -100, 100)\n",
    "ys1 = xs1**2 + 4*xs1 + 3\n",
    "tan1 = m1 * xs1 + b1\n",
    "plt.grid(True)\n",
    "plt.plot(xs1, ys1)\n",
    "plt.plot(xs1, tan1)\n",
    "plt.show()"
   ]
  },
  {
   "cell_type": "code",
   "execution_count": 29,
   "metadata": {},
   "outputs": [],
   "source": []
  },
  {
   "cell_type": "markdown",
   "metadata": {},
   "source": [
    "$$ f(x) = x^x$$ $$x = 1$$"
   ]
  },
  {
   "cell_type": "code",
   "execution_count": 95,
   "metadata": {},
   "outputs": [
    {
     "data": {
      "image/png": "[encoded data removed]",
      "text/latex": [
       "$$x^{x} \\left(\\log{\\left (x \\right )} + 1\\right)$$"
      ],
      "text/plain": [
       " x             \n",
       "x ⋅(log(x) + 1)"
      ]
     },
     "execution_count": 95,
     "metadata": {},
     "output_type": "execute_result"
    }
   ],
   "source": [
    "as2 = x**x\n",
    "deriv2 = diff(as2, x)\n",
    "deriv2"
   ]
  },
  {
   "cell_type": "code",
   "execution_count": 96,
   "metadata": {},
   "outputs": [
    {
     "name": "stdout",
     "output_type": "stream",
     "text": [
      "1 0\n"
     ]
    }
   ],
   "source": [
    "m2 = deriv2.subs(x, 1)\n",
    "y2 = as2.subs(x, 1)\n",
    "b2 = y2 - m2 * 1\n",
    "print(m2, b2)"
   ]
  },
  {
   "cell_type": "code",
   "execution_count": 100,
   "metadata": {},
   "outputs": [
    {
     "data": {
      "image/png": "[encoded data removed]",
      "text/plain": [
       "<Figure size 432x288 with 1 Axes>"
      ]
     },
     "metadata": {},
     "output_type": "display_data"
    }
   ],
   "source": [
    "xs2 = np.linspace(0, 2, 100)\n",
    "ys2 = xs2**xs2\n",
    "tan2 = m2 * xs2 + b2\n",
    "plt.grid(True)\n",
    "plt.plot(xs2, ys2)\n",
    "plt.plot(xs2, tan2)\n",
    "plt.show()"
   ]
  },
  {
   "cell_type": "markdown",
   "metadata": {},
   "source": [
    "$$ f(x) = 2xe^{-x}cos(x)$$$$x=-1$$"
   ]
  },
  {
   "cell_type": "code",
   "execution_count": 84,
   "metadata": {},
   "outputs": [
    {
     "data": {
      "image/png": "[encoded data removed]",
      "text/latex": [
       "$$- 2 \\cdot 2.71828182845905^{- x} x \\sin{\\left (x \\right )} - 2.0 \\cdot 2.71828182845905^{- x} x \\cos{\\left (x \\right )} + 2 \\cdot 2.71828182845905^{- x} \\cos{\\left (x \\right )}$$"
      ],
      "text/plain": [
       "                    -x                                -x                      \n",
       "- 2⋅2.71828182845905  ⋅x⋅sin(x) - 2.0⋅2.71828182845905  ⋅x⋅cos(x) + 2⋅2.718281\n",
       "\n",
       "        -x       \n",
       "82845905  ⋅cos(x)"
      ]
     },
     "execution_count": 84,
     "metadata": {},
     "output_type": "execute_result"
    }
   ],
   "source": [
    "e = np.e\n",
    "as3 = 2 * x *( e **-x) * cos(x)\n",
    "deriv3 = diff(as3, x)\n",
    "deriv3"
   ]
  },
  {
   "cell_type": "code",
   "execution_count": 77,
   "metadata": {},
   "outputs": [
    {
     "name": "stdout",
     "output_type": "stream",
     "text": [
      "-5.43656365691809*sin(1) + 10.8731273138362*cos(1) -5.43656365691809*sin(1) + 5.43656365691809*cos(1)\n"
     ]
    }
   ],
   "source": [
    "m3 = deriv3.subs(x, -1)\n",
    "y3 = as3.subs(x, -1)\n",
    "b3 = y3 - m3 * -1\n",
    "print(m3, b3)"
   ]
  },
  {
   "cell_type": "code",
   "execution_count": 93,
   "metadata": {},
   "outputs": [
    {
     "data": {
      "image/png": "[encoded data removed]",
      "text/plain": [
       "<Figure size 432x288 with 1 Axes>"
      ]
     },
     "metadata": {},
     "output_type": "display_data"
    }
   ],
   "source": [
    "xs3 = np.linspace(-2, 8, 100)\n",
    "ys3 = (2 * xs3 * e **-xs3) * (np.cos(xs3))\n",
    "tan3 = m3 * xs3 + b3\n",
    "plt.grid(True)\n",
    "plt.plot(xs3, ys3)\n",
    "plt.plot(xs3, tan3)\n",
    "plt.show()"
   ]
  },
  {
   "cell_type": "markdown",
   "metadata": {},
   "source": [
    "$$ f(x) = -x^2 + 6$$$$x=0$$"
   ]
  },
  {
   "cell_type": "code",
   "execution_count": 58,
   "metadata": {},
   "outputs": [
    {
     "data": {
      "image/png": "[encoded data removed]",
      "text/latex": [
       "$$- 2 x$$"
      ],
      "text/plain": [
       "-2⋅x"
      ]
     },
     "execution_count": 58,
     "metadata": {},
     "output_type": "execute_result"
    }
   ],
   "source": [
    "as4 = -x**2 + 6\n",
    "deriv4 = diff(as4, x)\n",
    "deriv4"
   ]
  },
  {
   "cell_type": "code",
   "execution_count": 59,
   "metadata": {},
   "outputs": [
    {
     "name": "stdout",
     "output_type": "stream",
     "text": [
      "0 6\n"
     ]
    }
   ],
   "source": [
    "m4 = deriv4.subs(x, 0)\n",
    "y4 = as4.subs(x, 0)\n",
    "b4 = y4 - m4 * 0\n",
    "print(m4, b4)"
   ]
  },
  {
   "cell_type": "code",
   "execution_count": 94,
   "metadata": {},
   "outputs": [
    {
     "data": {
      "image/png": "[encoded data removed]",
      "text/plain": [
       "<Figure size 432x288 with 1 Axes>"
      ]
     },
     "metadata": {},
     "output_type": "display_data"
    }
   ],
   "source": [
    "xs4 = np.linspace(100, -100, 100)\n",
    "ys4 = -xs4**2 + 6\n",
    "tan4 = m4 * -xs4 + b4\n",
    "plt.grid(True)\n",
    "plt.plot(xs4, ys4)\n",
    "plt.plot(xs4, tan4)\n",
    "plt.show()"
   ]
  },
  {
   "cell_type": "code",
   "execution_count": null,
   "metadata": {},
   "outputs": [],
   "source": []
  }
 ],
 "metadata": {
  "kernelspec": {
   "display_name": "Python 3",
   "language": "python",
   "name": "python3"
  },
  "language_info": {
   "codemirror_mode": {
    "name": "ipython",
    "version": 3
   },
   "file_extension": ".py",
   "mimetype": "text/x-python",
   "name": "python",
   "nbconvert_exporter": "python",
   "pygments_lexer": "ipython3",
   "version": "3.6.5"
  }
 },
 "nbformat": 4,
 "nbformat_minor": 2
}
